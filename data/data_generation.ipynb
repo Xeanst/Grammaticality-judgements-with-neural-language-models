{
  "cells": [
    {
      "cell_type": "markdown",
      "source": [
        "Осуществляется автоматическая генерация 7 типов предложений:\n",
        "- простое предложение с подлежащим без дополнения (`intr`);\n",
        "- простое предложение с подлежащим и дополнением в прямом порядке (`tr_direct`);\n",
        "- простое предложение с подлежащим и дополнением в обратном порядке (`tr_reverse`);\n",
        "- сложноподчиненное предложение (`chto`);\n",
        "- простое предложение с зависимым существительным при подлежащем (`pp`);\n",
        "- сложное предложение с субъектным зависимым предложением при подлежащем (`subj_rel`);\n",
        "- сложное предложение с объектным зависимым предложением при подлежащем (`obj_rel`).\n",
        "В каждом типе одна половина примеров содержит одушевленные существительные (`anim`), другая – неодушевленные (`inan`)."
      ],
      "metadata": {
        "id": "GwEdcPYTkS8W"
      }
    },
    {
      "cell_type": "markdown",
      "source": [
        "## Запись лексического материала"
      ],
      "metadata": {
        "id": "b6N55aNKEmap"
      }
    },
    {
      "cell_type": "code",
      "execution_count": 1,
      "metadata": {
        "id": "TXXSIlgAElVe"
      },
      "outputs": [],
      "source": [
        "subj_anim = [\"писатель\", \"писатели\", \"пилот\", \"пилоты\",\n",
        "             \"фермер\", \"фермеры\", \"руководитель\", \"руководители\",\n",
        "            \"покупатель\", \"покупатели\", \"командир\", \"командиры\",\n",
        "            \"преподаватель\", \"преподаватели\", \"чиновник\", \"чиновники\",\n",
        "            \"студент\", \"студенты\"]\n",
        "predicate_intr_anim = [\"рассуждал\", \"рассуждали\", \"пел\", \"пели\", \"был высоким\", \"были высокими\",\n",
        "             \"был пожилым\", \"были пожилыми\", \"размышлял\", \"размышляли\",\n",
        "            \"был низким\", \"были низкими\", \"был молодым\", \"были молодыми\",\"обедал\", \"обедали\",]"
      ]
    },
    {
      "cell_type": "code",
      "execution_count": 2,
      "metadata": {
        "id": "7Gl354NWElVi"
      },
      "outputs": [],
      "source": [
        "subj_inan = [\"фильм\", \"фильмы\", \"журнал\", \"журналы\", \"сериал\", \"сериалы\", \"чертеж\", \"чертежи\", \n",
        "             \"учебник\", \"учебники\", \"рисунок\", \"рисунки\", \"роман\", \"романы\", \"рассказ\", \"рассказы\", \n",
        "             \"спектакль\", \"спектакли\"]\n",
        "predicate_intr_inan = [\"восхищал\", \"восхищали\", \"увлекал\", \"увлекали\", \"был хорошим\",\"были хорошими\",\n",
        "                       \"был известным\", \"были известными\", \n",
        "                       \"был плохим\", \"были плохими\", \"расстраивал\", \"расстраивали\",\n",
        "                        \"был новым\", \"были новыми\", \"веселил\", \"веселили\"]"
      ]
    },
    {
      "cell_type": "code",
      "execution_count": 3,
      "metadata": {
        "id": "oa1WMPYOElVi"
      },
      "outputs": [],
      "source": [
        "obj_anim = [\"охранника\", \"охранников\", \"ассистента\", \"ассистентов\", \"архитектора\", \"архитекторов\", \n",
        "            \"фигуриста\", \"фигуристов\", \"танцора\", \"танцоров\", \"министра\", \"министров\", \"водителя\", \"водителей\", \n",
        "            \"секретаря\", \"секретарей\", \"офицера\", \"офицеров\"]\n",
        "predicate_tr = [\"знал\", \"знали\", \"ненавидел\", \"ненавидели\", \"недолюбливал\", \"недолюбливали\", \n",
        "                \"презирал\", \"презирали\", \"ценил\", \"ценили\", \"обожал\", \"обожали\", \"игнорировал\", \"игнорировали\"]"
      ]
    },
    {
      "cell_type": "code",
      "execution_count": 4,
      "metadata": {
        "id": "j2hPLbnBElVk"
      },
      "outputs": [],
      "source": [
        "matrix_clause = [\"механик говорил\", \"механики говорили\", \"банкир говорил\", \"банкиры говорили\", \n",
        "                 \"механик предполагал\", \"механики предполагали\", \"банкир предполагал\", \"банкиры предполагали\",\n",
        "                 \"механик думал\", \"механики думали\", \"банкир думал\", \"банкиры думали\", \n",
        "                 \"механик знал\", \"механики знали\", \"банкир знал\", \"банкиры знали\"]"
      ]
    },
    {
      "cell_type": "code",
      "execution_count": 5,
      "metadata": {
        "id": "7IBCkIFwElVk"
      },
      "outputs": [],
      "source": [
        "pp_anim = [\"возле охранника\", \"возле охранников\", \"возле ассистента\", \"возле ассистентов\",\n",
        "          \"возле архитектора\", \"возле архитекторов\", \"возле фигуриста\", \"возле фигуристов\",\n",
        "           \"возле танцора\", \"возле танцоров\", \n",
        "          \"вблизи министра\", \"вблизи министров\", \"вблизи водителя\", \"вблизи водителей\", \n",
        "          \"около секретаря\", \"около секретарей\", \"около офицера\", \"около офицеров\"]"
      ]
    },
    {
      "cell_type": "code",
      "execution_count": 6,
      "metadata": {
        "id": "WWbzg-TmElVk"
      },
      "outputs": [],
      "source": [
        "pp_inan = [\"для охранника\", \"для охранников\", \"для ассистента\", \"для ассистентов\", \n",
        "           \"для архитектора\", \"для архитекторов\",\"для фигуриста\", \"для фигуристов\", \n",
        "           \"для танцора\", \"для танцоров\", \n",
        "           \"без министра\", \"без министров\", \"без водителя\", \"без водителей\",\n",
        "          \"от секретаря\", \"от секретарей\", \"от офицера\", \"от офицеров\"]"
      ]
    },
    {
      "cell_type": "code",
      "execution_count": 7,
      "metadata": {
        "id": "gCZaiBPdElVl"
      },
      "outputs": [],
      "source": [
        "subj_rel = [\"писатель который знал\", \"писатели которые знали\", \n",
        "            \"писатель который ненавидел\", \"писатели которые ненавидели\",\n",
        "            \"писатель который недолюбливал\", \"писатели которые недолюбливали\", \n",
        "            \"пилот который знал\", \"пилоты которые знали\", \n",
        "            \"пилот который ненавидел\", \"пилоты которые ненавидели\",\n",
        "            \"пилот который недолюбливал\", \"пилоты которые недолюбливали\", \n",
        "            \"фермер который знал\", \"фермеры которые знали\", \n",
        "            \"фермер который ненавидел\", \"фермеры которые ненавидели\",\n",
        "            \"фермер который недолюбливал\", \"фермеры которые недолюбливали\", \n",
        "            \"руководитель который знал\", \"руководители которые знали\", \n",
        "            \"руководитель который ненавидел\", \"руководители которые ненавидели\",\n",
        "            \"руководитель который недолюбливал\", \"руководители которые недолюбливали\", \n",
        "            \"покупатель который знал\", \"покупатели которые знали\", \n",
        "            \"покупатель который ненавидел\", \"покупатели которые ненавидели\",\n",
        "            \"покупатель который недолюбливал\", \"покупатели которые недолюбливали\", \n",
        "            \n",
        "            \"командир который презирал\", \"командиры которые презирали\",\n",
        "            \"командир который ценил\", \"командиры которые ценили\",\n",
        "            \"преподаватель который презирал\", \"преподаватели которые презирали\",\n",
        "            \"преподаватель который ценил\", \"преподаватели которые ценили\",\n",
        "            \n",
        "            \"чиновник который обожал\", \"чиновники которые обожали\",\n",
        "            \"чиновник который игнорировал\", \"чиновники которые игнорировали\",\n",
        "            \"студент который обожал\", \"студенты которые обожали\",\n",
        "            \"студент который игнорировал\", \"студенты которые игнорировали\"]"
      ]
    },
    {
      "cell_type": "code",
      "execution_count": 8,
      "metadata": {
        "id": "tDqInWMOElVl"
      },
      "outputs": [],
      "source": [
        "sent_rel = [\"знал охранник\", \"знали охранники\",\n",
        "           \"знал ассистент\", \"знали ассистенты\",\n",
        "           \"знал архитектор\", \"знали архитекторы\",\n",
        "           \"знал фигурист\", \"знали фигуристы\",\n",
        "           \"знал танцор\", \"знали танцоры\",\n",
        "           \"ненавидел охранник\", \"ненавидели охранники\",\n",
        "           \"ненавидел ассистент\", \"ненавидели ассистенты\",\n",
        "           \"ненавидел архитектор\", \"ненавидели архитекторы\",\n",
        "           \"ненавидел фигурист\", \"ненавидели фигуристы\",\n",
        "           \"ненавидел танцор\", \"ненавидели танцоры\",\n",
        "           \"недолюбливал охранник\", \"недолюбливали охранники\",\n",
        "           \"недолюбливал ассистент\", \"недолюбливали ассистенты\",\n",
        "           \"недолюбливал архитектор\", \"недолюбливали архитекторы\",\n",
        "           \"недолюбливал фигурист\", \"недолюбливали фигуристы\",\n",
        "           \"недолюбливал танцор\", \"недолюбливали танцоры\",\n",
        "            \n",
        "           \"презирал министр\", \"презирали министры\",\n",
        "           \"презирал водитель\", \"презирали водители\",\n",
        "           \"ценил министр\", \"ценили министры\",\n",
        "           \"ценил водитель\", \"ценили водители\",\n",
        "           \n",
        "            \"обожал секретарь\", \"обожали секретари\",\n",
        "            \"обожал офицер\", \"обожали офицеры\",\n",
        "            \"игнорировал секретарь\", \"игнорировали секретари\",\n",
        "            \"игнорировал офицер\", \"игнорировали офицеры\"]"
      ]
    },
    {
      "cell_type": "code",
      "execution_count": 9,
      "metadata": {
        "id": "4RJTQhxPElVm"
      },
      "outputs": [],
      "source": [
        "obj_rel_anim = [\"писатель которого\", \"писатели которых\", \n",
        "            \"пилот которого\", \"пилоты которых\", \n",
        "            \"фермер которого\", \"фермеры которых\", \n",
        "            \"руководитель которого\", \"руководители которых\", \n",
        "            \"покупатель которого\", \"покупатели которых\", \n",
        "            \"командир которого\", \"командиры которых\", \n",
        "            \"преподаватель которого\", \"преподаватели которых\", \n",
        "            \"чиновник которого\", \"чиновники которых\", \n",
        "            \"студент которого\", \"студенты которых\"]\n",
        "obj_rel_inan = [\"фильм который\", \"фильмы которые\",\n",
        "               \"журнал который\", \"журналы которые\", \n",
        "                \"сериал который\", \"сериалы которые\", \n",
        "                \"чертеж который\", \"чертежи которые\", \n",
        "                \"учебник который\", \"учебники которые\", \n",
        "                \"рисунок который\", \"рисунки которые\", \n",
        "                \"роман который\", \"романы которые\", \n",
        "                \"рассказ который\", \"рассказы которые\", \n",
        "                \"спектакль который\", \"спектакли которые\"]"
      ]
    },
    {
      "cell_type": "markdown",
      "source": [
        "## Создание синтаксических шаблонов"
      ],
      "metadata": {
        "id": "UnLVe6g_E9vO"
      }
    },
    {
      "cell_type": "code",
      "execution_count": 10,
      "metadata": {
        "id": "uU37N58hElVm"
      },
      "outputs": [],
      "source": [
        "def sentences_intr (sample, subj, predicate, label):\n",
        "    if sample == \"train\":\n",
        "        subj = subj[:10]\n",
        "        predicate = predicate[:8]\n",
        "    elif sample == \"val\":\n",
        "        subj = subj[10:14]\n",
        "        predicate = predicate[8:12]\n",
        "    elif sample == \"test\":\n",
        "        subj = subj[14:]\n",
        "        predicate = predicate[12:]\n",
        "    sentences_intr_json = []\n",
        "    sentence = ''\n",
        "    i = 1\n",
        "    score = 0\n",
        "    for noun in subj:\n",
        "        score +=1\n",
        "        for verb in predicate:\n",
        "            sentence = [f'{noun} {verb}', str(score%2), label] \n",
        "            sentences_intr_json.append(sentence)\n",
        "            sentence = ''\n",
        "            i += 1\n",
        "            score +=1\n",
        "    return sentences_intr_json"
      ]
    },
    {
      "cell_type": "code",
      "execution_count": 11,
      "metadata": {
        "id": "dcaA_AjYElVn"
      },
      "outputs": [],
      "source": [
        "def sentences_tr (sample, subj, predicate, obj, order, label):\n",
        "    if sample == \"train\":\n",
        "        subj = subj[:10]\n",
        "        obj = obj[:10]\n",
        "        predicate = predicate[:6]\n",
        "    elif sample == \"val\":\n",
        "        subj = subj[10:14]\n",
        "        obj = obj[10:14]\n",
        "        predicate = predicate[6:10]\n",
        "    elif sample == \"test\":\n",
        "        subj = subj[14:]\n",
        "        obj = obj[14:]\n",
        "        predicate = predicate[10:]\n",
        "    sentences_tr_json = []\n",
        "    sentence = ''\n",
        "    i = 1\n",
        "    score = 0\n",
        "    for noun_1 in subj:\n",
        "        score +=1\n",
        "        for noun_2 in obj:\n",
        "            for verb in predicate:\n",
        "                if order == \"direct\":\n",
        "                    sentence = [f'{noun_1} {verb} {noun_2}', str(score%2), label]\n",
        "                elif order == \"reverse\":\n",
        "                    sentence = [f'{noun_2} {verb} {noun_1}', str(score%2), label]\n",
        "                sentences_tr_json.append(sentence)\n",
        "                sentence = ''\n",
        "                i += 1\n",
        "                score +=1\n",
        "    return sentences_tr_json"
      ]
    },
    {
      "cell_type": "code",
      "execution_count": 12,
      "metadata": {
        "id": "yr9VyR12ElVn"
      },
      "outputs": [],
      "source": [
        "def sentences_chto (sample, subj, predicate, matrix, label):\n",
        "    if sample == \"train\":\n",
        "        subj = subj[:10]\n",
        "        predicate = predicate[:8]\n",
        "        matrix = matrix[:8]\n",
        "    elif sample == \"val\":\n",
        "        subj = subj[10:14]\n",
        "        predicate = predicate[8:12]\n",
        "        matrix = matrix[8:12]\n",
        "    elif sample == \"test\":\n",
        "        subj = subj[14:]\n",
        "        predicate = predicate[12:]\n",
        "        matrix = matrix[12:]\n",
        "    sentences_chto_json = []\n",
        "    sentence = ''\n",
        "    i = 1\n",
        "    score = 0\n",
        "    for clause in matrix:\n",
        "        for noun in subj:\n",
        "            score +=1\n",
        "            for verb in predicate:\n",
        "                sentence = [f'{clause} что {noun} {verb}', str(score%2), label] \n",
        "                sentences_chto_json.append(sentence)\n",
        "                sentence = ''\n",
        "                i += 1\n",
        "                score +=1\n",
        "    return sentences_chto_json"
      ]
    },
    {
      "cell_type": "code",
      "execution_count": 13,
      "metadata": {
        "id": "qQz0NifgElVn"
      },
      "outputs": [],
      "source": [
        "def sentences_pp (sample, subj, predicate, pp, label):\n",
        "    if sample == \"train\":\n",
        "        subj = subj[:10]\n",
        "        predicate = predicate[:8]\n",
        "        pp = pp[:10]\n",
        "    elif sample == \"val\":\n",
        "        subj = subj[10:14]\n",
        "        predicate = predicate[8:12]\n",
        "        pp = pp[10:14]\n",
        "    elif sample == \"test\":\n",
        "        subj = subj[14:]\n",
        "        predicate = predicate[12:]\n",
        "        pp = pp[14:]\n",
        "    sentences_pp_json = []\n",
        "    sentence = ''\n",
        "    i = 1\n",
        "    score = 0\n",
        "    for phrase in pp:\n",
        "        for noun in subj:\n",
        "            score +=1\n",
        "            for verb in predicate:\n",
        "                sentence = [f'{noun} {phrase} {verb}', str(score%2), label] \n",
        "                sentences_pp_json.append(sentence)\n",
        "                sentence = ''\n",
        "                i += 1\n",
        "                score +=1\n",
        "    return sentences_pp_json"
      ]
    },
    {
      "cell_type": "code",
      "execution_count": 14,
      "metadata": {
        "id": "owGpA5jYElVo"
      },
      "outputs": [],
      "source": [
        "def sentences_subj_rel (sample, subj, predicate, rel, label):\n",
        "    if sample == \"train\":\n",
        "        subj = subj[:30]\n",
        "        predicate = predicate[:8]\n",
        "        rel = rel[:10]\n",
        "    elif sample == \"val\":\n",
        "        subj = subj[30:38]\n",
        "        predicate = predicate[8:12]\n",
        "        rel = rel[10:14]\n",
        "    elif sample == \"test\":\n",
        "        subj = subj[38:]\n",
        "        predicate = predicate[12:]\n",
        "        rel = rel[14:]\n",
        "    sentences_subj_rel_json = []\n",
        "    sentence = ''\n",
        "    i = 1\n",
        "    score = 0\n",
        "    for obj in rel:\n",
        "        for noun in subj:\n",
        "            score +=1\n",
        "            for verb in predicate:\n",
        "                sentence = [f'{noun} {obj} {verb}', str(score%2), label]\n",
        "                sentences_subj_rel_json.append(sentence)\n",
        "                sentence = ''\n",
        "                i += 1\n",
        "                score +=1\n",
        "    return sentences_subj_rel_json"
      ]
    },
    {
      "cell_type": "code",
      "execution_count": 15,
      "metadata": {
        "id": "dfXdC5OyElVo"
      },
      "outputs": [],
      "source": [
        "def sentences_obj_rel (sample, subj, predicate, rel, label):\n",
        "    if sample == \"train\":\n",
        "        subj = subj[:10]\n",
        "        predicate = predicate[:8]\n",
        "        rel = rel[:30]\n",
        "    elif sample == \"val\":\n",
        "        subj = subj[10:14]\n",
        "        predicate = predicate[8:12]\n",
        "        rel = rel[30:38]\n",
        "    elif sample == \"test\":\n",
        "        subj = subj[14:]\n",
        "        predicate = predicate[12:]\n",
        "        rel = rel[38:]\n",
        "    sentences_obj_rel_json = []\n",
        "    sentence = ''\n",
        "    i = 1\n",
        "    score = 0\n",
        "    for obj in rel:\n",
        "        for noun in subj:\n",
        "            score +=1\n",
        "            for verb in predicate:\n",
        "                sentence = [f'{noun} {obj} {verb}', str(score%2), label]\n",
        "                sentences_obj_rel_json.append(sentence)\n",
        "                sentence = ''\n",
        "                i += 1\n",
        "                score +=1\n",
        "    return sentences_obj_rel_json"
      ]
    },
    {
      "cell_type": "markdown",
      "source": [
        "## Генерация предложений"
      ],
      "metadata": {
        "id": "cRVPRSD9FeNW"
      }
    },
    {
      "cell_type": "code",
      "source": [
        "intr_anim_train = sentences_intr ('train', subj_anim, predicate_intr_anim, 'intr_anim')\n",
        "intr_anim_val = sentences_intr ('val', subj_anim, predicate_intr_anim, 'intr_anim')\n",
        "intr_anim_test = sentences_intr ('test', subj_anim, predicate_intr_anim, 'intr_anim')"
      ],
      "metadata": {
        "id": "9SW1x5AEFh1F"
      },
      "execution_count": 16,
      "outputs": []
    },
    {
      "cell_type": "code",
      "execution_count": 17,
      "metadata": {
        "id": "AsaszWF9ElVo"
      },
      "outputs": [],
      "source": [
        "intr_inan_train = sentences_intr ('train', subj_inan, predicate_intr_inan, 'intr_inan')\n",
        "intr_inan_val = sentences_intr ('val', subj_inan, predicate_intr_inan, 'intr_inan')\n",
        "intr_inan_test = sentences_intr ('test', subj_inan, predicate_intr_inan, 'intr_inan')"
      ]
    },
    {
      "cell_type": "code",
      "execution_count": 18,
      "metadata": {
        "id": "Gmfe7keZElVo"
      },
      "outputs": [],
      "source": [
        "tr_direct_anim_train = sentences_tr('train', subj_anim, predicate_tr, obj_anim, 'direct', 'tr_direct_anim')\n",
        "tr_direct_anim_val = sentences_tr('val', subj_anim, predicate_tr, obj_anim, 'direct', 'tr_direct_anim')\n",
        "tr_direct_anim_test = sentences_tr('test', subj_anim, predicate_tr, obj_anim, 'direct', 'tr_direct_anim')"
      ]
    },
    {
      "cell_type": "code",
      "execution_count": 19,
      "metadata": {
        "id": "vEPDvd1PElVp"
      },
      "outputs": [],
      "source": [
        "tr_direct_inan_train = sentences_tr ('train', subj_anim, predicate_tr, subj_inan, 'direct', 'tr_direct_inan')\n",
        "tr_direct_inan_val = sentences_tr('val', subj_anim, predicate_tr, subj_inan, 'direct', 'tr_direct_inan')\n",
        "tr_direct_inan_test = sentences_tr('test', subj_anim, predicate_tr, subj_inan, 'direct', 'tr_direct_inan')"
      ]
    },
    {
      "cell_type": "code",
      "execution_count": 20,
      "metadata": {
        "id": "aDJRt9S2ElVp"
      },
      "outputs": [],
      "source": [
        "tr_reverse_anim_train = sentences_tr('train',subj_anim, predicate_tr, obj_anim, 'reverse', 'tr_reverse_anim')\n",
        "tr_reverse_anim_val = sentences_tr('val',subj_anim, predicate_tr, obj_anim, 'reverse', 'tr_reverse_anim')\n",
        "tr_reverse_anim_test = sentences_tr('test',subj_anim, predicate_tr, obj_anim, 'reverse', 'tr_reverse_anim')"
      ]
    },
    {
      "cell_type": "code",
      "execution_count": 21,
      "metadata": {
        "id": "5vc_ePnGElVp"
      },
      "outputs": [],
      "source": [
        "tr_reverse_inan_train = sentences_tr('train', subj_anim, predicate_tr, subj_inan, 'reverse', 'tr_reverse_inan')\n",
        "tr_reverse_inan_val = sentences_tr('val', subj_anim, predicate_tr, subj_inan, 'reverse', 'tr_reverse_inan')\n",
        "tr_reverse_inan_test = sentences_tr('test', subj_anim, predicate_tr, subj_inan, 'reverse', 'tr_reverse_inan')"
      ]
    },
    {
      "cell_type": "code",
      "execution_count": 22,
      "metadata": {
        "id": "U0XpR-r5ElVp"
      },
      "outputs": [],
      "source": [
        "chto_anim_train = sentences_chto('train', subj_anim, predicate_intr_anim, matrix_clause, 'chto_anim')\n",
        "chto_anim_val = sentences_chto('val', subj_anim, predicate_intr_anim, matrix_clause, 'chto_anim')\n",
        "chto_anim_test = sentences_chto('test', subj_anim, predicate_intr_anim, matrix_clause, 'chto_anim')"
      ]
    },
    {
      "cell_type": "code",
      "execution_count": 23,
      "metadata": {
        "id": "h9hhKZm7ElVp"
      },
      "outputs": [],
      "source": [
        "chto_inan_train = sentences_chto('train',subj_inan, predicate_intr_inan, matrix_clause, 'chto_inan')\n",
        "chto_inan_val = sentences_chto('val',subj_inan, predicate_intr_inan, matrix_clause, 'chto_inan')\n",
        "chto_inan_test = sentences_chto('test',subj_inan, predicate_intr_inan, matrix_clause, 'chto_inan')"
      ]
    },
    {
      "cell_type": "code",
      "execution_count": 24,
      "metadata": {
        "id": "cltIUGCKElVp"
      },
      "outputs": [],
      "source": [
        "pp_anim_train = sentences_pp('train', subj_anim, predicate_intr_anim, pp_anim, 'pp_anim')\n",
        "pp_anim_val = sentences_pp('val', subj_anim, predicate_intr_anim, pp_anim, 'pp_anim')\n",
        "pp_anim_test = sentences_pp('test', subj_anim, predicate_intr_anim, pp_anim, 'pp_anim')"
      ]
    },
    {
      "cell_type": "code",
      "execution_count": 25,
      "metadata": {
        "id": "L5L8OQNPElVq"
      },
      "outputs": [],
      "source": [
        "pp_inan_train = sentences_pp('train', subj_inan, predicate_intr_inan, pp_inan, 'pp_inan')\n",
        "pp_inan_val = sentences_pp('val', subj_inan, predicate_intr_inan, pp_inan, 'pp_inan')\n",
        "pp_inan_test = sentences_pp('test', subj_inan, predicate_intr_inan, pp_inan, 'pp_inan')"
      ]
    },
    {
      "cell_type": "code",
      "execution_count": 26,
      "metadata": {
        "id": "FYreLMhNElVq"
      },
      "outputs": [],
      "source": [
        "subj_rel_anim_train = sentences_subj_rel('train', subj_rel, predicate_intr_anim, obj_anim, 'subj_rel_anim')\n",
        "subj_rel_anim_val = sentences_subj_rel('val', subj_rel, predicate_intr_anim, obj_anim, 'subj_rel_anim')\n",
        "subj_rel_anim_test = sentences_subj_rel('test', subj_rel, predicate_intr_anim, obj_anim, 'subj_rel_anim')"
      ]
    },
    {
      "cell_type": "code",
      "execution_count": 27,
      "metadata": {
        "id": "oyoaCliKElVq"
      },
      "outputs": [],
      "source": [
        "subj_rel_inan_train = sentences_subj_rel('train', subj_rel, predicate_intr_anim, subj_inan, 'subj_rel_inan')\n",
        "subj_rel_inan_val = sentences_subj_rel('val', subj_rel, predicate_intr_anim, subj_inan, 'subj_rel_inan')\n",
        "subj_rel_inan_test = sentences_subj_rel('test', subj_rel, predicate_intr_anim, subj_inan, 'subj_rel_inan')"
      ]
    },
    {
      "cell_type": "code",
      "execution_count": 28,
      "metadata": {
        "id": "Q5PzI6hrElVq"
      },
      "outputs": [],
      "source": [
        "obj_rel_anim_train = sentences_obj_rel('train', obj_rel_anim, predicate_intr_anim, sent_rel, 'obj_rel_anim')\n",
        "obj_rel_anim_val = sentences_obj_rel('val', obj_rel_anim, predicate_intr_anim, sent_rel, 'obj_rel_anim')\n",
        "obj_rel_anim_test = sentences_obj_rel('test', obj_rel_anim, predicate_intr_anim, sent_rel, 'obj_rel_anim')"
      ]
    },
    {
      "cell_type": "code",
      "execution_count": 29,
      "metadata": {
        "id": "iKMpex-6ElVq"
      },
      "outputs": [],
      "source": [
        "obj_rel_inan_train = sentences_obj_rel('train', obj_rel_inan, predicate_intr_inan, sent_rel, 'obj_rel_inan')\n",
        "obj_rel_inan_val = sentences_obj_rel('val', obj_rel_inan, predicate_intr_inan, sent_rel, 'obj_rel_inan')\n",
        "obj_rel_inan_test = sentences_obj_rel('test', obj_rel_inan, predicate_intr_inan, sent_rel, 'obj_rel_inan')"
      ]
    },
    {
      "cell_type": "markdown",
      "source": [
        "## Запись предложений в файл"
      ],
      "metadata": {
        "id": "VyXPUfXZaPPJ"
      }
    },
    {
      "cell_type": "code",
      "source": [
        "!pip install jsonlines"
      ],
      "metadata": {
        "colab": {
          "base_uri": "https://localhost:8080/"
        },
        "id": "DHqAtK74el5O",
        "outputId": "fdd88be1-1a24-45ed-9644-c8e270beb15e"
      },
      "execution_count": 30,
      "outputs": [
        {
          "output_type": "stream",
          "name": "stdout",
          "text": [
            "Looking in indexes: https://pypi.org/simple, https://us-python.pkg.dev/colab-wheels/public/simple/\n",
            "Requirement already satisfied: jsonlines in /usr/local/lib/python3.8/dist-packages (3.1.0)\n",
            "Requirement already satisfied: attrs>=19.2.0 in /usr/local/lib/python3.8/dist-packages (from jsonlines) (22.2.0)\n"
          ]
        }
      ]
    },
    {
      "cell_type": "code",
      "source": [
        "import os\n",
        "from google.colab import drive\n",
        "drive.mount('/content/drive')\n",
        "PATH = \"/content/drive/My Drive/\""
      ],
      "metadata": {
        "colab": {
          "base_uri": "https://localhost:8080/"
        },
        "id": "vDPDpf13esXI",
        "outputId": "34666dd3-110c-4d81-dff1-9bd8c39a58ff"
      },
      "execution_count": 31,
      "outputs": [
        {
          "output_type": "stream",
          "name": "stdout",
          "text": [
            "Drive already mounted at /content/drive; to attempt to forcibly remount, call drive.mount(\"/content/drive\", force_remount=True).\n"
          ]
        }
      ]
    },
    {
      "cell_type": "code",
      "source": [
        "import jsonlines\n",
        "import random"
      ],
      "metadata": {
        "id": "SauVG4kPezqJ"
      },
      "execution_count": 32,
      "outputs": []
    },
    {
      "cell_type": "code",
      "source": [
        "def make_dataset(dataset, subset_list, n):\n",
        "  for subset in subset_list:\n",
        "    random.shuffle(subset)\n",
        "    for line in subset[:n]:\n",
        "      dict_line = {\"sentence\": line[0], \"idx\": line[1], \"label\": line[2]}\n",
        "      dataset.append(dict_line)\n",
        "      dict_line = {}\n",
        "  random.shuffle(dataset)\n",
        "  return dataset"
      ],
      "metadata": {
        "id": "dEW6-8lkanOh"
      },
      "execution_count": 33,
      "outputs": []
    },
    {
      "cell_type": "code",
      "source": [
        "subset_list = [intr_anim_train, intr_inan_train, tr_direct_anim_train, tr_direct_inan_train,\n",
        "               tr_reverse_anim_train, tr_reverse_inan_train, chto_anim_train, chto_inan_train,\n",
        "               pp_anim_train, pp_inan_train, subj_rel_anim_train, subj_rel_inan_train,\n",
        "               obj_rel_anim_train, obj_rel_inan_train]"
      ],
      "metadata": {
        "id": "xLtLL1TQha2J"
      },
      "execution_count": 34,
      "outputs": []
    },
    {
      "cell_type": "code",
      "source": [
        "train_data = []\n",
        "train_data = make_dataset(train_data, subset_list, 40)"
      ],
      "metadata": {
        "id": "ixBsE2mBhta1"
      },
      "execution_count": 35,
      "outputs": []
    },
    {
      "cell_type": "code",
      "source": [
        "val_data = []\n",
        "val_data = make_dataset(val_data, subset_list, 5)"
      ],
      "metadata": {
        "id": "_pgLfYPXh02f"
      },
      "execution_count": 36,
      "outputs": []
    },
    {
      "cell_type": "code",
      "source": [
        "test_data = []\n",
        "test_data = make_dataset(test_data, subset_list, 5)"
      ],
      "metadata": {
        "id": "hVtcOKSAh4k2"
      },
      "execution_count": 37,
      "outputs": []
    },
    {
      "cell_type": "code",
      "source": [
        "print(f'Размер обучающей выборки = {len(train_data)} предложений')\n",
        "print(f'Размер валидационной выборки = {len(val_data)} предложений')\n",
        "print(f'Размер тестовой выборки = {len(test_data)} предложений')\n",
        "print(f'Размер всего датасета = {len(train_data) + len(val_data) + len(test_data)} предложений')"
      ],
      "metadata": {
        "colab": {
          "base_uri": "https://localhost:8080/"
        },
        "id": "5DQl0LqYgy2A",
        "outputId": "ee6b1f1f-0f14-4d79-b090-6643865561b4"
      },
      "execution_count": 38,
      "outputs": [
        {
          "output_type": "stream",
          "name": "stdout",
          "text": [
            "Размер обучающей выборки = 560 предложений\n",
            "Размер валидационной выборки = 70 предложений\n",
            "Размер тестовой выборки = 70 предложений\n",
            "Размер всего датасета = 700 предложений\n"
          ]
        }
      ]
    },
    {
      "cell_type": "code",
      "source": [
        "def write_jsonl(dataset, file_name):\n",
        "  with jsonlines.open(f\"{PATH}{file_name}.jsonl\", 'w') as f_out:\n",
        "    for line in dataset:\n",
        "      sentence = line[\"sentence\"]\n",
        "      idx = line[\"idx\"]\n",
        "      label = line[\"label\"]\n",
        "      f_out.write({\"sentence\": sentence, \"idx\": idx, \"label\":label})"
      ],
      "metadata": {
        "id": "TaRUgs9oh9eF"
      },
      "execution_count": 39,
      "outputs": []
    },
    {
      "cell_type": "code",
      "source": [
        "write_jsonl(train_data, 'train_data'), write_jsonl(val_data, 'val_data'), write_jsonl(test_data, 'test_data')"
      ],
      "metadata": {
        "colab": {
          "base_uri": "https://localhost:8080/"
        },
        "id": "QeMjrz_8jR3n",
        "outputId": "d985b903-64d6-444d-c9f2-ddeccce9adb1"
      },
      "execution_count": 40,
      "outputs": [
        {
          "output_type": "execute_result",
          "data": {
            "text/plain": [
              "(None, None, None)"
            ]
          },
          "metadata": {},
          "execution_count": 40
        }
      ]
    }
  ],
  "metadata": {
    "kernelspec": {
      "display_name": "Python 3",
      "language": "python",
      "name": "python3"
    },
    "language_info": {
      "codemirror_mode": {
        "name": "ipython",
        "version": 3
      },
      "file_extension": ".py",
      "mimetype": "text/x-python",
      "name": "python",
      "nbconvert_exporter": "python",
      "pygments_lexer": "ipython3",
      "version": "3.7.3"
    },
    "colab": {
      "provenance": []
    }
  },
  "nbformat": 4,
  "nbformat_minor": 0
}
